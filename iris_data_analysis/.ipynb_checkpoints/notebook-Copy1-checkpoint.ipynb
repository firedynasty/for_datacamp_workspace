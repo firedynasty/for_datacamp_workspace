{
 "cells": [
  {
   "cell_type": "code",
   "execution_count": 2,
   "id": "f68832ed-9e80-4a90-acb5-aa3777a05e86",
   "metadata": {
    "executionTime": 27,
    "lastSuccessfullyExecutedCode": "import pandas as pd\niris = pd.read_csv('iris_data_analysis/iris_data.csv', index_col=[0])"
   },
   "outputs": [],
   "source": [
    "import pandas as pd\n",
    "iris = pd.read_csv('iris_data_analysis/iris_data.csv', index_col=[0])"
   ]
  },
  {
   "cell_type": "code",
   "execution_count": 3,
   "id": "fa246e44-7150-4df4-8fdb-1ffaed536f8c",
   "metadata": {
    "executionTime": 144,
    "lastSuccessfullyExecutedCode": "iris"
   },
   "outputs": [
    {
     "data": {
      "application/com.datacamp.data-table.v1+json": {
       "table": {
        "data": [
         {
          "class": "Iris-setosa",
          "index": 0,
          "petal_length": 1.4,
          "petal_width": 0.2,
          "sepal_length": 5.1,
          "sepal_width": 3.5
         },
         {
          "class": "Iris-setosa",
          "index": 1,
          "petal_length": 1.4,
          "petal_width": 0.2,
          "sepal_length": 4.9,
          "sepal_width": 3
         },
         {
          "class": "Iris-setosa",
          "index": 2,
          "petal_length": 1.3,
          "petal_width": 0.2,
          "sepal_length": 4.7,
          "sepal_width": 3.2
         },
         {
          "class": "Iris-setosa",
          "index": 3,
          "petal_length": 1.5,
          "petal_width": 0.2,
          "sepal_length": 4.6,
          "sepal_width": 3.1
         },
         {
          "class": "Iris-setosa",
          "index": 4,
          "petal_length": 1.4,
          "petal_width": 0.2,
          "sepal_length": 5,
          "sepal_width": 3.6
         },
         {
          "class": "Iris-setosa",
          "index": 5,
          "petal_length": 1.7,
          "petal_width": 0.4,
          "sepal_length": 5.4,
          "sepal_width": 3.9
         },
         {
          "class": "Iris-setosa",
          "index": 6,
          "petal_length": 1.4,
          "petal_width": 0.3,
          "sepal_length": 4.6,
          "sepal_width": 3.4
         },
         {
          "class": "Iris-setosa",
          "index": 7,
          "petal_length": 1.5,
          "petal_width": 0.2,
          "sepal_length": 5,
          "sepal_width": 3.4
         },
         {
          "class": "Iris-setosa",
          "index": 8,
          "petal_length": 1.4,
          "petal_width": 0.2,
          "sepal_length": 4.4,
          "sepal_width": 2.9
         },
         {
          "class": "Iris-setosa",
          "index": 9,
          "petal_length": 1.5,
          "petal_width": 0.1,
          "sepal_length": 4.9,
          "sepal_width": 3.1
         },
         {
          "class": "Iris-setosa",
          "index": 10,
          "petal_length": 1.5,
          "petal_width": 0.2,
          "sepal_length": 5.4,
          "sepal_width": 3.7
         },
         {
          "class": "Iris-setosa",
          "index": 11,
          "petal_length": 1.6,
          "petal_width": 0.2,
          "sepal_length": 4.8,
          "sepal_width": 3.4
         },
         {
          "class": "Iris-setosa",
          "index": 12,
          "petal_length": 1.4,
          "petal_width": 0.1,
          "sepal_length": 4.8,
          "sepal_width": 3
         },
         {
          "class": "Iris-setosa",
          "index": 13,
          "petal_length": 1.1,
          "petal_width": 0.1,
          "sepal_length": 4.3,
          "sepal_width": 3
         },
         {
          "class": "Iris-setosa",
          "index": 14,
          "petal_length": 1.2,
          "petal_width": 0.2,
          "sepal_length": 5.8,
          "sepal_width": 4
         },
         {
          "class": "Iris-setosa",
          "index": 15,
          "petal_length": 1.5,
          "petal_width": 0.4,
          "sepal_length": 5.7,
          "sepal_width": 4.4
         },
         {
          "class": "Iris-setosa",
          "index": 16,
          "petal_length": 1.3,
          "petal_width": 0.4,
          "sepal_length": 5.4,
          "sepal_width": 3.9
         },
         {
          "class": "Iris-setosa",
          "index": 17,
          "petal_length": 1.4,
          "petal_width": 0.3,
          "sepal_length": 5.1,
          "sepal_width": 3.5
         },
         {
          "class": "Iris-setosa",
          "index": 18,
          "petal_length": 1.7,
          "petal_width": 0.3,
          "sepal_length": 5.7,
          "sepal_width": 3.8
         },
         {
          "class": "Iris-setosa",
          "index": 19,
          "petal_length": 1.5,
          "petal_width": 0.3,
          "sepal_length": 5.1,
          "sepal_width": 3.8
         },
         {
          "class": "Iris-setosa",
          "index": 20,
          "petal_length": 1.7,
          "petal_width": 0.2,
          "sepal_length": 5.4,
          "sepal_width": 3.4
         },
         {
          "class": "Iris-setosa",
          "index": 21,
          "petal_length": 1.5,
          "petal_width": 0.4,
          "sepal_length": 5.1,
          "sepal_width": 3.7
         },
         {
          "class": "Iris-setosa",
          "index": 22,
          "petal_length": 1,
          "petal_width": 0.2,
          "sepal_length": 4.6,
          "sepal_width": 3.6
         },
         {
          "class": "Iris-setosa",
          "index": 23,
          "petal_length": 1.7,
          "petal_width": 0.5,
          "sepal_length": 5.1,
          "sepal_width": 3.3
         },
         {
          "class": "Iris-setosa",
          "index": 24,
          "petal_length": 1.9,
          "petal_width": 0.2,
          "sepal_length": 4.8,
          "sepal_width": 3.4
         },
         {
          "class": "Iris-setosa",
          "index": 25,
          "petal_length": 1.6,
          "petal_width": 0.2,
          "sepal_length": 5,
          "sepal_width": 3
         },
         {
          "class": "Iris-setosa",
          "index": 26,
          "petal_length": 1.6,
          "petal_width": 0.4,
          "sepal_length": 5,
          "sepal_width": 3.4
         },
         {
          "class": "Iris-setosa",
          "index": 27,
          "petal_length": 1.5,
          "petal_width": 0.2,
          "sepal_length": 5.2,
          "sepal_width": 3.5
         },
         {
          "class": "Iris-setosa",
          "index": 28,
          "petal_length": 1.4,
          "petal_width": 0.2,
          "sepal_length": 5.2,
          "sepal_width": 3.4
         },
         {
          "class": "Iris-setosa",
          "index": 29,
          "petal_length": 1.6,
          "petal_width": 0.2,
          "sepal_length": 4.7,
          "sepal_width": 3.2
         },
         {
          "class": "Iris-setosa",
          "index": 30,
          "petal_length": 1.6,
          "petal_width": 0.2,
          "sepal_length": 4.8,
          "sepal_width": 3.1
         },
         {
          "class": "Iris-setosa",
          "index": 31,
          "petal_length": 1.5,
          "petal_width": 0.4,
          "sepal_length": 5.4,
          "sepal_width": 3.4
         },
         {
          "class": "Iris-setosa",
          "index": 32,
          "petal_length": 1.5,
          "petal_width": 0.1,
          "sepal_length": 5.2,
          "sepal_width": 4.1
         },
         {
          "class": "Iris-setosa",
          "index": 33,
          "petal_length": 1.4,
          "petal_width": 0.2,
          "sepal_length": 5.5,
          "sepal_width": 4.2
         },
         {
          "class": "Iris-setosa",
          "index": 34,
          "petal_length": 1.5,
          "petal_width": 0.1,
          "sepal_length": 4.9,
          "sepal_width": 3.1
         },
         {
          "class": "Iris-setosa",
          "index": 35,
          "petal_length": 1.2,
          "petal_width": 0.2,
          "sepal_length": 5,
          "sepal_width": 3.2
         },
         {
          "class": "Iris-setosa",
          "index": 36,
          "petal_length": 1.3,
          "petal_width": 0.2,
          "sepal_length": 5.5,
          "sepal_width": 3.5
         },
         {
          "class": "Iris-setosa",
          "index": 37,
          "petal_length": 1.5,
          "petal_width": 0.1,
          "sepal_length": 4.9,
          "sepal_width": 3.1
         },
         {
          "class": "Iris-setosa",
          "index": 38,
          "petal_length": 1.3,
          "petal_width": 0.2,
          "sepal_length": 4.4,
          "sepal_width": 3
         },
         {
          "class": "Iris-setosa",
          "index": 39,
          "petal_length": 1.5,
          "petal_width": 0.2,
          "sepal_length": 5.1,
          "sepal_width": 3.4
         },
         {
          "class": "Iris-setosa",
          "index": 40,
          "petal_length": 1.3,
          "petal_width": 0.3,
          "sepal_length": 5,
          "sepal_width": 3.5
         },
         {
          "class": "Iris-setosa",
          "index": 41,
          "petal_length": 1.3,
          "petal_width": 0.3,
          "sepal_length": 4.5,
          "sepal_width": 2.3
         },
         {
          "class": "Iris-setosa",
          "index": 42,
          "petal_length": 1.3,
          "petal_width": 0.2,
          "sepal_length": 4.4,
          "sepal_width": 3.2
         },
         {
          "class": "Iris-setosa",
          "index": 43,
          "petal_length": 1.6,
          "petal_width": 0.6,
          "sepal_length": 5,
          "sepal_width": 3.5
         },
         {
          "class": "Iris-setosa",
          "index": 44,
          "petal_length": 1.9,
          "petal_width": 0.4,
          "sepal_length": 5.1,
          "sepal_width": 3.8
         },
         {
          "class": "Iris-setosa",
          "index": 45,
          "petal_length": 1.4,
          "petal_width": 0.3,
          "sepal_length": 4.8,
          "sepal_width": 3
         },
         {
          "class": "Iris-setosa",
          "index": 46,
          "petal_length": 1.6,
          "petal_width": 0.2,
          "sepal_length": 5.1,
          "sepal_width": 3.8
         },
         {
          "class": "Iris-setosa",
          "index": 47,
          "petal_length": 1.4,
          "petal_width": 0.2,
          "sepal_length": 4.6,
          "sepal_width": 3.2
         },
         {
          "class": "Iris-setosa",
          "index": 48,
          "petal_length": 1.5,
          "petal_width": 0.2,
          "sepal_length": 5.3,
          "sepal_width": 3.7
         },
         {
          "class": "Iris-setosa",
          "index": 49,
          "petal_length": 1.4,
          "petal_width": 0.2,
          "sepal_length": 5,
          "sepal_width": 3.3
         },
         {
          "class": "Iris-versicolor",
          "index": 50,
          "petal_length": 4.7,
          "petal_width": 1.4,
          "sepal_length": 7,
          "sepal_width": 3.2
         },
         {
          "class": "Iris-versicolor",
          "index": 51,
          "petal_length": 4.5,
          "petal_width": 1.5,
          "sepal_length": 6.4,
          "sepal_width": 3.2
         },
         {
          "class": "Iris-versicolor",
          "index": 52,
          "petal_length": 4.9,
          "petal_width": 1.5,
          "sepal_length": 6.9,
          "sepal_width": 3.1
         },
         {
          "class": "Iris-versicolor",
          "index": 53,
          "petal_length": 4,
          "petal_width": 1.3,
          "sepal_length": 5.5,
          "sepal_width": 2.3
         },
         {
          "class": "Iris-versicolor",
          "index": 54,
          "petal_length": 4.6,
          "petal_width": 1.5,
          "sepal_length": 6.5,
          "sepal_width": 2.8
         },
         {
          "class": "Iris-versicolor",
          "index": 55,
          "petal_length": 4.5,
          "petal_width": 1.3,
          "sepal_length": 5.7,
          "sepal_width": 2.8
         },
         {
          "class": "Iris-versicolor",
          "index": 56,
          "petal_length": 4.7,
          "petal_width": 1.6,
          "sepal_length": 6.3,
          "sepal_width": 3.3
         },
         {
          "class": "Iris-versicolor",
          "index": 57,
          "petal_length": 3.3,
          "petal_width": 1,
          "sepal_length": 4.9,
          "sepal_width": 2.4
         },
         {
          "class": "Iris-versicolor",
          "index": 58,
          "petal_length": 4.6,
          "petal_width": 1.3,
          "sepal_length": 6.6,
          "sepal_width": 2.9
         },
         {
          "class": "Iris-versicolor",
          "index": 59,
          "petal_length": 3.9,
          "petal_width": 1.4,
          "sepal_length": 5.2,
          "sepal_width": 2.7
         },
         {
          "class": "Iris-versicolor",
          "index": 60,
          "petal_length": 3.5,
          "petal_width": 1,
          "sepal_length": 5,
          "sepal_width": 2
         },
         {
          "class": "Iris-versicolor",
          "index": 61,
          "petal_length": 4.2,
          "petal_width": 1.5,
          "sepal_length": 5.9,
          "sepal_width": 3
         },
         {
          "class": "Iris-versicolor",
          "index": 62,
          "petal_length": 4,
          "petal_width": 1,
          "sepal_length": 6,
          "sepal_width": 2.2
         },
         {
          "class": "Iris-versicolor",
          "index": 63,
          "petal_length": 4.7,
          "petal_width": 1.4,
          "sepal_length": 6.1,
          "sepal_width": 2.9
         },
         {
          "class": "Iris-versicolor",
          "index": 64,
          "petal_length": 3.6,
          "petal_width": 1.3,
          "sepal_length": 5.6,
          "sepal_width": 2.9
         },
         {
          "class": "Iris-versicolor",
          "index": 65,
          "petal_length": 4.4,
          "petal_width": 1.4,
          "sepal_length": 6.7,
          "sepal_width": 3.1
         },
         {
          "class": "Iris-versicolor",
          "index": 66,
          "petal_length": 4.5,
          "petal_width": 1.5,
          "sepal_length": 5.6,
          "sepal_width": 3
         },
         {
          "class": "Iris-versicolor",
          "index": 67,
          "petal_length": 4.1,
          "petal_width": 1,
          "sepal_length": 5.8,
          "sepal_width": 2.7
         },
         {
          "class": "Iris-versicolor",
          "index": 68,
          "petal_length": 4.5,
          "petal_width": 1.5,
          "sepal_length": 6.2,
          "sepal_width": 2.2
         },
         {
          "class": "Iris-versicolor",
          "index": 69,
          "petal_length": 3.9,
          "petal_width": 1.1,
          "sepal_length": 5.6,
          "sepal_width": 2.5
         },
         {
          "class": "Iris-versicolor",
          "index": 70,
          "petal_length": 4.8,
          "petal_width": 1.8,
          "sepal_length": 5.9,
          "sepal_width": 3.2
         },
         {
          "class": "Iris-versicolor",
          "index": 71,
          "petal_length": 4,
          "petal_width": 1.3,
          "sepal_length": 6.1,
          "sepal_width": 2.8
         },
         {
          "class": "Iris-versicolor",
          "index": 72,
          "petal_length": 4.9,
          "petal_width": 1.5,
          "sepal_length": 6.3,
          "sepal_width": 2.5
         },
         {
          "class": "Iris-versicolor",
          "index": 73,
          "petal_length": 4.7,
          "petal_width": 1.2,
          "sepal_length": 6.1,
          "sepal_width": 2.8
         },
         {
          "class": "Iris-versicolor",
          "index": 74,
          "petal_length": 4.3,
          "petal_width": 1.3,
          "sepal_length": 6.4,
          "sepal_width": 2.9
         },
         {
          "class": "Iris-versicolor",
          "index": 75,
          "petal_length": 4.4,
          "petal_width": 1.4,
          "sepal_length": 6.6,
          "sepal_width": 3
         },
         {
          "class": "Iris-versicolor",
          "index": 76,
          "petal_length": 4.8,
          "petal_width": 1.4,
          "sepal_length": 6.8,
          "sepal_width": 2.8
         },
         {
          "class": "Iris-versicolor",
          "index": 77,
          "petal_length": 5,
          "petal_width": 1.7,
          "sepal_length": 6.7,
          "sepal_width": 3
         },
         {
          "class": "Iris-versicolor",
          "index": 78,
          "petal_length": 4.5,
          "petal_width": 1.5,
          "sepal_length": 6,
          "sepal_width": 2.9
         },
         {
          "class": "Iris-versicolor",
          "index": 79,
          "petal_length": 3.5,
          "petal_width": 1,
          "sepal_length": 5.7,
          "sepal_width": 2.6
         },
         {
          "class": "Iris-versicolor",
          "index": 80,
          "petal_length": 3.8,
          "petal_width": 1.1,
          "sepal_length": 5.5,
          "sepal_width": 2.4
         },
         {
          "class": "Iris-versicolor",
          "index": 81,
          "petal_length": 3.7,
          "petal_width": 1,
          "sepal_length": 5.5,
          "sepal_width": 2.4
         },
         {
          "class": "Iris-versicolor",
          "index": 82,
          "petal_length": 3.9,
          "petal_width": 1.2,
          "sepal_length": 5.8,
          "sepal_width": 2.7
         },
         {
          "class": "Iris-versicolor",
          "index": 83,
          "petal_length": 5.1,
          "petal_width": 1.6,
          "sepal_length": 6,
          "sepal_width": 2.7
         },
         {
          "class": "Iris-versicolor",
          "index": 84,
          "petal_length": 4.5,
          "petal_width": 1.5,
          "sepal_length": 5.4,
          "sepal_width": 3
         },
         {
          "class": "Iris-versicolor",
          "index": 85,
          "petal_length": 4.5,
          "petal_width": 1.6,
          "sepal_length": 6,
          "sepal_width": 3.4
         },
         {
          "class": "Iris-versicolor",
          "index": 86,
          "petal_length": 4.7,
          "petal_width": 1.5,
          "sepal_length": 6.7,
          "sepal_width": 3.1
         },
         {
          "class": "Iris-versicolor",
          "index": 87,
          "petal_length": 4.4,
          "petal_width": 1.3,
          "sepal_length": 6.3,
          "sepal_width": 2.3
         },
         {
          "class": "Iris-versicolor",
          "index": 88,
          "petal_length": 4.1,
          "petal_width": 1.3,
          "sepal_length": 5.6,
          "sepal_width": 3
         },
         {
          "class": "Iris-versicolor",
          "index": 89,
          "petal_length": 4,
          "petal_width": 1.3,
          "sepal_length": 5.5,
          "sepal_width": 2.5
         },
         {
          "class": "Iris-versicolor",
          "index": 90,
          "petal_length": 4.4,
          "petal_width": 1.2,
          "sepal_length": 5.5,
          "sepal_width": 2.6
         },
         {
          "class": "Iris-versicolor",
          "index": 91,
          "petal_length": 4.6,
          "petal_width": 1.4,
          "sepal_length": 6.1,
          "sepal_width": 3
         },
         {
          "class": "Iris-versicolor",
          "index": 92,
          "petal_length": 4,
          "petal_width": 1.2,
          "sepal_length": 5.8,
          "sepal_width": 2.6
         },
         {
          "class": "Iris-versicolor",
          "index": 93,
          "petal_length": 3.3,
          "petal_width": 1,
          "sepal_length": 5,
          "sepal_width": 2.3
         },
         {
          "class": "Iris-versicolor",
          "index": 94,
          "petal_length": 4.2,
          "petal_width": 1.3,
          "sepal_length": 5.6,
          "sepal_width": 2.7
         },
         {
          "class": "Iris-versicolor",
          "index": 95,
          "petal_length": 4.2,
          "petal_width": 1.2,
          "sepal_length": 5.7,
          "sepal_width": 3
         },
         {
          "class": "Iris-versicolor",
          "index": 96,
          "petal_length": 4.2,
          "petal_width": 1.3,
          "sepal_length": 5.7,
          "sepal_width": 2.9
         },
         {
          "class": "Iris-versicolor",
          "index": 97,
          "petal_length": 4.3,
          "petal_width": 1.3,
          "sepal_length": 6.2,
          "sepal_width": 2.9
         },
         {
          "class": "Iris-versicolor",
          "index": 98,
          "petal_length": 3,
          "petal_width": 1.1,
          "sepal_length": 5.1,
          "sepal_width": 2.5
         },
         {
          "class": "Iris-versicolor",
          "index": 99,
          "petal_length": 4.1,
          "petal_width": 1.3,
          "sepal_length": 5.7,
          "sepal_width": 2.8
         },
         {
          "class": "Iris-virginica",
          "index": 100,
          "petal_length": 6,
          "petal_width": 2.5,
          "sepal_length": 6.3,
          "sepal_width": 3.3
         },
         {
          "class": "Iris-virginica",
          "index": 101,
          "petal_length": 5.1,
          "petal_width": 1.9,
          "sepal_length": 5.8,
          "sepal_width": 2.7
         },
         {
          "class": "Iris-virginica",
          "index": 102,
          "petal_length": 5.9,
          "petal_width": 2.1,
          "sepal_length": 7.1,
          "sepal_width": 3
         },
         {
          "class": "Iris-virginica",
          "index": 103,
          "petal_length": 5.6,
          "petal_width": 1.8,
          "sepal_length": 6.3,
          "sepal_width": 2.9
         },
         {
          "class": "Iris-virginica",
          "index": 104,
          "petal_length": 5.8,
          "petal_width": 2.2,
          "sepal_length": 6.5,
          "sepal_width": 3
         },
         {
          "class": "Iris-virginica",
          "index": 105,
          "petal_length": 6.6,
          "petal_width": 2.1,
          "sepal_length": 7.6,
          "sepal_width": 3
         },
         {
          "class": "Iris-virginica",
          "index": 106,
          "petal_length": 4.5,
          "petal_width": 1.7,
          "sepal_length": 4.9,
          "sepal_width": 2.5
         },
         {
          "class": "Iris-virginica",
          "index": 107,
          "petal_length": 6.3,
          "petal_width": 1.8,
          "sepal_length": 7.3,
          "sepal_width": 2.9
         },
         {
          "class": "Iris-virginica",
          "index": 108,
          "petal_length": 5.8,
          "petal_width": 1.8,
          "sepal_length": 6.7,
          "sepal_width": 2.5
         },
         {
          "class": "Iris-virginica",
          "index": 109,
          "petal_length": 6.1,
          "petal_width": 2.5,
          "sepal_length": 7.2,
          "sepal_width": 3.6
         },
         {
          "class": "Iris-virginica",
          "index": 110,
          "petal_length": 5.1,
          "petal_width": 2,
          "sepal_length": 6.5,
          "sepal_width": 3.2
         },
         {
          "class": "Iris-virginica",
          "index": 111,
          "petal_length": 5.3,
          "petal_width": 1.9,
          "sepal_length": 6.4,
          "sepal_width": 2.7
         },
         {
          "class": "Iris-virginica",
          "index": 112,
          "petal_length": 5.5,
          "petal_width": 2.1,
          "sepal_length": 6.8,
          "sepal_width": 3
         },
         {
          "class": "Iris-virginica",
          "index": 113,
          "petal_length": 5,
          "petal_width": 2,
          "sepal_length": 5.7,
          "sepal_width": 2.5
         },
         {
          "class": "Iris-virginica",
          "index": 114,
          "petal_length": 5.1,
          "petal_width": 2.4,
          "sepal_length": 5.8,
          "sepal_width": 2.8
         },
         {
          "class": "Iris-virginica",
          "index": 115,
          "petal_length": 5.3,
          "petal_width": 2.3,
          "sepal_length": 6.4,
          "sepal_width": 3.2
         },
         {
          "class": "Iris-virginica",
          "index": 116,
          "petal_length": 5.5,
          "petal_width": 1.8,
          "sepal_length": 6.5,
          "sepal_width": 3
         },
         {
          "class": "Iris-virginica",
          "index": 117,
          "petal_length": 6.7,
          "petal_width": 2.2,
          "sepal_length": 7.7,
          "sepal_width": 3.8
         },
         {
          "class": "Iris-virginica",
          "index": 118,
          "petal_length": 6.9,
          "petal_width": 2.3,
          "sepal_length": 7.7,
          "sepal_width": 2.6
         },
         {
          "class": "Iris-virginica",
          "index": 119,
          "petal_length": 5,
          "petal_width": 1.5,
          "sepal_length": 6,
          "sepal_width": 2.2
         },
         {
          "class": "Iris-virginica",
          "index": 120,
          "petal_length": 5.7,
          "petal_width": 2.3,
          "sepal_length": 6.9,
          "sepal_width": 3.2
         },
         {
          "class": "Iris-virginica",
          "index": 121,
          "petal_length": 4.9,
          "petal_width": 2,
          "sepal_length": 5.6,
          "sepal_width": 2.8
         },
         {
          "class": "Iris-virginica",
          "index": 122,
          "petal_length": 6.7,
          "petal_width": 2,
          "sepal_length": 7.7,
          "sepal_width": 2.8
         },
         {
          "class": "Iris-virginica",
          "index": 123,
          "petal_length": 4.9,
          "petal_width": 1.8,
          "sepal_length": 6.3,
          "sepal_width": 2.7
         },
         {
          "class": "Iris-virginica",
          "index": 124,
          "petal_length": 5.7,
          "petal_width": 2.1,
          "sepal_length": 6.7,
          "sepal_width": 3.3
         },
         {
          "class": "Iris-virginica",
          "index": 125,
          "petal_length": 6,
          "petal_width": 1.8,
          "sepal_length": 7.2,
          "sepal_width": 3.2
         },
         {
          "class": "Iris-virginica",
          "index": 126,
          "petal_length": 4.8,
          "petal_width": 1.8,
          "sepal_length": 6.2,
          "sepal_width": 2.8
         },
         {
          "class": "Iris-virginica",
          "index": 127,
          "petal_length": 4.9,
          "petal_width": 1.8,
          "sepal_length": 6.1,
          "sepal_width": 3
         },
         {
          "class": "Iris-virginica",
          "index": 128,
          "petal_length": 5.6,
          "petal_width": 2.1,
          "sepal_length": 6.4,
          "sepal_width": 2.8
         },
         {
          "class": "Iris-virginica",
          "index": 129,
          "petal_length": 5.8,
          "petal_width": 1.6,
          "sepal_length": 7.2,
          "sepal_width": 3
         },
         {
          "class": "Iris-virginica",
          "index": 130,
          "petal_length": 6.1,
          "petal_width": 1.9,
          "sepal_length": 7.4,
          "sepal_width": 2.8
         },
         {
          "class": "Iris-virginica",
          "index": 131,
          "petal_length": 6.4,
          "petal_width": 2,
          "sepal_length": 7.9,
          "sepal_width": 3.8
         },
         {
          "class": "Iris-virginica",
          "index": 132,
          "petal_length": 5.6,
          "petal_width": 2.2,
          "sepal_length": 6.4,
          "sepal_width": 2.8
         },
         {
          "class": "Iris-virginica",
          "index": 133,
          "petal_length": 5.1,
          "petal_width": 1.5,
          "sepal_length": 6.3,
          "sepal_width": 2.8
         },
         {
          "class": "Iris-virginica",
          "index": 134,
          "petal_length": 5.6,
          "petal_width": 1.4,
          "sepal_length": 6.1,
          "sepal_width": 2.6
         },
         {
          "class": "Iris-virginica",
          "index": 135,
          "petal_length": 6.1,
          "petal_width": 2.3,
          "sepal_length": 7.7,
          "sepal_width": 3
         },
         {
          "class": "Iris-virginica",
          "index": 136,
          "petal_length": 5.6,
          "petal_width": 2.4,
          "sepal_length": 6.3,
          "sepal_width": 3.4
         },
         {
          "class": "Iris-virginica",
          "index": 137,
          "petal_length": 5.5,
          "petal_width": 1.8,
          "sepal_length": 6.4,
          "sepal_width": 3.1
         },
         {
          "class": "Iris-virginica",
          "index": 138,
          "petal_length": 4.8,
          "petal_width": 1.8,
          "sepal_length": 6,
          "sepal_width": 3
         },
         {
          "class": "Iris-virginica",
          "index": 139,
          "petal_length": 5.4,
          "petal_width": 2.1,
          "sepal_length": 6.9,
          "sepal_width": 3.1
         },
         {
          "class": "Iris-virginica",
          "index": 140,
          "petal_length": 5.6,
          "petal_width": 2.4,
          "sepal_length": 6.7,
          "sepal_width": 3.1
         },
         {
          "class": "Iris-virginica",
          "index": 141,
          "petal_length": 5.1,
          "petal_width": 2.3,
          "sepal_length": 6.9,
          "sepal_width": 3.1
         },
         {
          "class": "Iris-virginica",
          "index": 142,
          "petal_length": 5.1,
          "petal_width": 1.9,
          "sepal_length": 5.8,
          "sepal_width": 2.7
         },
         {
          "class": "Iris-virginica",
          "index": 143,
          "petal_length": 5.9,
          "petal_width": 2.3,
          "sepal_length": 6.8,
          "sepal_width": 3.2
         },
         {
          "class": "Iris-virginica",
          "index": 144,
          "petal_length": 5.7,
          "petal_width": 2.5,
          "sepal_length": 6.7,
          "sepal_width": 3.3
         },
         {
          "class": "Iris-virginica",
          "index": 145,
          "petal_length": 5.2,
          "petal_width": 2.3,
          "sepal_length": 6.7,
          "sepal_width": 3
         },
         {
          "class": "Iris-virginica",
          "index": 146,
          "petal_length": 5,
          "petal_width": 1.9,
          "sepal_length": 6.3,
          "sepal_width": 2.5
         },
         {
          "class": "Iris-virginica",
          "index": 147,
          "petal_length": 5.2,
          "petal_width": 2,
          "sepal_length": 6.5,
          "sepal_width": 3
         },
         {
          "class": "Iris-virginica",
          "index": 148,
          "petal_length": 5.4,
          "petal_width": 2.3,
          "sepal_length": 6.2,
          "sepal_width": 3.4
         },
         {
          "class": "Iris-virginica",
          "index": 149,
          "petal_length": 5.1,
          "petal_width": 1.8,
          "sepal_length": 5.9,
          "sepal_width": 3
         }
        ],
        "schema": {
         "fields": [
          {
           "name": "index",
           "type": "integer"
          },
          {
           "name": "sepal_length",
           "type": "number"
          },
          {
           "name": "sepal_width",
           "type": "number"
          },
          {
           "name": "petal_length",
           "type": "number"
          },
          {
           "name": "petal_width",
           "type": "number"
          },
          {
           "name": "class",
           "type": "string"
          }
         ],
         "pandas_version": "1.4.0",
         "primaryKey": [
          "index"
         ]
        }
       },
       "total_rows": 150,
       "truncation_type": null
      },
      "text/html": [
       "<div>\n",
       "<style scoped>\n",
       "    .dataframe tbody tr th:only-of-type {\n",
       "        vertical-align: middle;\n",
       "    }\n",
       "\n",
       "    .dataframe tbody tr th {\n",
       "        vertical-align: top;\n",
       "    }\n",
       "\n",
       "    .dataframe thead th {\n",
       "        text-align: right;\n",
       "    }\n",
       "</style>\n",
       "<table border=\"1\" class=\"dataframe\">\n",
       "  <thead>\n",
       "    <tr style=\"text-align: right;\">\n",
       "      <th></th>\n",
       "      <th>sepal_length</th>\n",
       "      <th>sepal_width</th>\n",
       "      <th>petal_length</th>\n",
       "      <th>petal_width</th>\n",
       "      <th>class</th>\n",
       "    </tr>\n",
       "  </thead>\n",
       "  <tbody>\n",
       "    <tr>\n",
       "      <th>0</th>\n",
       "      <td>5.1</td>\n",
       "      <td>3.5</td>\n",
       "      <td>1.4</td>\n",
       "      <td>0.2</td>\n",
       "      <td>Iris-setosa</td>\n",
       "    </tr>\n",
       "    <tr>\n",
       "      <th>1</th>\n",
       "      <td>4.9</td>\n",
       "      <td>3.0</td>\n",
       "      <td>1.4</td>\n",
       "      <td>0.2</td>\n",
       "      <td>Iris-setosa</td>\n",
       "    </tr>\n",
       "    <tr>\n",
       "      <th>2</th>\n",
       "      <td>4.7</td>\n",
       "      <td>3.2</td>\n",
       "      <td>1.3</td>\n",
       "      <td>0.2</td>\n",
       "      <td>Iris-setosa</td>\n",
       "    </tr>\n",
       "    <tr>\n",
       "      <th>3</th>\n",
       "      <td>4.6</td>\n",
       "      <td>3.1</td>\n",
       "      <td>1.5</td>\n",
       "      <td>0.2</td>\n",
       "      <td>Iris-setosa</td>\n",
       "    </tr>\n",
       "    <tr>\n",
       "      <th>4</th>\n",
       "      <td>5.0</td>\n",
       "      <td>3.6</td>\n",
       "      <td>1.4</td>\n",
       "      <td>0.2</td>\n",
       "      <td>Iris-setosa</td>\n",
       "    </tr>\n",
       "    <tr>\n",
       "      <th>...</th>\n",
       "      <td>...</td>\n",
       "      <td>...</td>\n",
       "      <td>...</td>\n",
       "      <td>...</td>\n",
       "      <td>...</td>\n",
       "    </tr>\n",
       "    <tr>\n",
       "      <th>145</th>\n",
       "      <td>6.7</td>\n",
       "      <td>3.0</td>\n",
       "      <td>5.2</td>\n",
       "      <td>2.3</td>\n",
       "      <td>Iris-virginica</td>\n",
       "    </tr>\n",
       "    <tr>\n",
       "      <th>146</th>\n",
       "      <td>6.3</td>\n",
       "      <td>2.5</td>\n",
       "      <td>5.0</td>\n",
       "      <td>1.9</td>\n",
       "      <td>Iris-virginica</td>\n",
       "    </tr>\n",
       "    <tr>\n",
       "      <th>147</th>\n",
       "      <td>6.5</td>\n",
       "      <td>3.0</td>\n",
       "      <td>5.2</td>\n",
       "      <td>2.0</td>\n",
       "      <td>Iris-virginica</td>\n",
       "    </tr>\n",
       "    <tr>\n",
       "      <th>148</th>\n",
       "      <td>6.2</td>\n",
       "      <td>3.4</td>\n",
       "      <td>5.4</td>\n",
       "      <td>2.3</td>\n",
       "      <td>Iris-virginica</td>\n",
       "    </tr>\n",
       "    <tr>\n",
       "      <th>149</th>\n",
       "      <td>5.9</td>\n",
       "      <td>3.0</td>\n",
       "      <td>5.1</td>\n",
       "      <td>1.8</td>\n",
       "      <td>Iris-virginica</td>\n",
       "    </tr>\n",
       "  </tbody>\n",
       "</table>\n",
       "<p>150 rows × 5 columns</p>\n",
       "</div>"
      ],
      "text/plain": [
       "     sepal_length  sepal_width  petal_length  petal_width           class\n",
       "0             5.1          3.5           1.4          0.2     Iris-setosa\n",
       "1             4.9          3.0           1.4          0.2     Iris-setosa\n",
       "2             4.7          3.2           1.3          0.2     Iris-setosa\n",
       "3             4.6          3.1           1.5          0.2     Iris-setosa\n",
       "4             5.0          3.6           1.4          0.2     Iris-setosa\n",
       "..            ...          ...           ...          ...             ...\n",
       "145           6.7          3.0           5.2          2.3  Iris-virginica\n",
       "146           6.3          2.5           5.0          1.9  Iris-virginica\n",
       "147           6.5          3.0           5.2          2.0  Iris-virginica\n",
       "148           6.2          3.4           5.4          2.3  Iris-virginica\n",
       "149           5.9          3.0           5.1          1.8  Iris-virginica\n",
       "\n",
       "[150 rows x 5 columns]"
      ]
     },
     "execution_count": 3,
     "metadata": {},
     "output_type": "execute_result"
    }
   ],
   "source": [
    "iris"
   ]
  },
  {
   "cell_type": "code",
   "execution_count": 5,
   "id": "12d28ebb-570d-49b0-a1ba-38bce8e7e563",
   "metadata": {
    "executionTime": 488,
    "lastSuccessfullyExecutedCode": "import seaborn as sns\nsns.set(style='whitegrid')\nsns.violinplot(x='class', y='petal_length', data=iris)"
   },
   "outputs": [
    {
     "data": {
      "text/plain": [
       "<AxesSubplot:xlabel='class', ylabel='petal_length'>"
      ]
     },
     "execution_count": 5,
     "metadata": {},
     "output_type": "execute_result"
    },
    {
     "data": {
      "image/png": "[encoded data removed]",
      "text/plain": [
       "<Figure size 640x480 with 1 Axes>"
      ]
     },
     "metadata": {},
     "output_type": "display_data"
    }
   ],
   "source": [
    "import seaborn as sns\n",
    "sns.set(style='whitegrid')\n",
    "sns.violinplot(x='class', y='petal_length', data=iris)"
   ]
  },
  {
   "cell_type": "code",
   "execution_count": 6,
   "id": "58de838d-29c2-4898-938e-2d033bb088eb",
   "metadata": {
    "executionTime": 28,
    "lastSuccessfullyExecutedCode": "group1 = iris[iris['class'] == 'Iris-setosa']\ngroup2 = iris[iris['class'] == 'Iris-versicolor']"
   },
   "outputs": [],
   "source": [
    "group1 = iris[iris['class'] == 'Iris-setosa']\n",
    "group2 = iris[iris['class'] == 'Iris-versicolor']"
   ]
  },
  {
   "cell_type": "code",
   "execution_count": 7,
   "id": "84f4de3c-fd50-44ae-9587-725d3c9e67aa",
   "metadata": {
    "executionTime": 30,
    "lastSuccessfullyExecutedCode": "from scipy.stats import ttest_ind\nttest_ind(group1['petal_length'], group2['petal_length'])\n"
   },
   "outputs": [
    {
     "data": {
      "text/plain": [
       "Ttest_indResult(statistic=-39.46866259397272, pvalue=5.717463758170621e-62)"
      ]
     },
     "execution_count": 7,
     "metadata": {},
     "output_type": "execute_result"
    }
   ],
   "source": [
    "from scipy.stats import ttest_ind\n",
    "ttest_ind(group1['petal_length'], group2['petal_length'])\n"
   ]
  },
  {
   "cell_type": "markdown",
   "id": "bc778dbb-6bc1-4d46-bb26-0a803b075c1a",
   "metadata": {},
   "source": [
    "The pvalue is really really small .. e-62 is the same as 10 ^-62 ( 10 ^-4 is 0.0004)"
   ]
  },
  {
   "cell_type": "markdown",
   "id": "cdf2f186-1a24-4328-8e4c-a1187857d4a6",
   "metadata": {},
   "source": []
  }
 ],
 "metadata": {
  "colab": {
   "name": "Welcome to DataCamp Workspaces.ipynb",
   "provenance": []
  },
  "kernelspec": {
   "display_name": "Python 3 (ipykernel)",
   "language": "python",
   "name": "python3"
  },
  "language_info": {
   "codemirror_mode": {
    "name": "ipython",
    "version": 3
   },
   "file_extension": ".py",
   "mimetype": "text/x-python",
   "name": "python",
   "nbconvert_exporter": "python",
   "pygments_lexer": "ipython3",
   "version": "3.8.10"
  }
 },
 "nbformat": 4,
 "nbformat_minor": 5
}
